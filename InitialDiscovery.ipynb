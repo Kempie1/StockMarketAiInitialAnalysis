{
 "cells": [
  {
   "cell_type": "markdown",
   "metadata": {},
   "source": [
    "# Initial Data Analysis"
   ]
  },
  {
   "cell_type": "code",
   "execution_count": 37,
   "metadata": {},
   "outputs": [],
   "source": [
    "%matplotlib inline\n",
    "import pandas as pd\n",
    "import matplotlib.pyplot as plt\n",
    "import numpy as np"
   ]
  },
  {
   "cell_type": "markdown",
   "metadata": {},
   "source": [
    "## Define the goal of your analysis\n",
    "\n",
    "- How can you define your goal as a question that you can answer with data analysis?\n",
    "    - Which sub questions do you need to answer this question?"
   ]
  },
  {
   "cell_type": "markdown",
   "metadata": {},
   "source": [
    "Analyze the stock market trend over time.\n",
    " - Find interesting dates,weeks,month with the biggest moves. To further investigate the reasons for them."
   ]
  },
  {
   "cell_type": "markdown",
   "metadata": {},
   "source": [
    "\n",
    "## Data Handling\n",
    "\n",
    "- Reflect on your data set.\n",
    "    - How was it collected? Where does it come from? What implications does that have for answering your question?\n",
    "- Load your data and observe what state your data is in.\n",
    "- Identify things that need to be cleaned and preprocessed and make a plan for which processing steps you need.\n",
    "    - E.g., correcting data types, filling in missing values, removing unneeded columns,...\n",
    "- Execute that plan and document the resulting data set."
   ]
  },
  {
   "cell_type": "markdown",
   "metadata": {},
   "source": [
    "---\n",
    "\n",
    "- Data taken from Market Watch https://www.marketwatch.com/investing/index/spx/download-data . \n",
    "\n",
    "- One year per download, so had to combine them into a single dataframe. Every market day from 09/15/2005 to 10/08/2021. * (In the python file) * \n",
    "- Everything is an object\n",
    "- Need to typecast everthing\n",
    "- Its only S&P so, its not the whole market but pretty much. Data would be only useful for the the major companies.\n"
   ]
  },
  {
   "cell_type": "code",
   "execution_count": 38,
   "metadata": {},
   "outputs": [
    {
     "name": "stdout",
     "output_type": "stream",
     "text": [
      "         Date      Open      High       Low     Close\n",
      "0  10/08/2021  4,406.51  4,412.02  4,386.22  4,391.34\n",
      "1  10/07/2021  4,383.73  4,429.97  4,383.73  4,399.76\n",
      "2  10/06/2021  4,319.57  4,365.57  4,290.49  4,363.55\n",
      "3  10/05/2021  4,309.87  4,369.23  4,309.87  4,345.72\n",
      "4  10/04/2021  4,348.84  4,355.51  4,278.94  4,300.46\n",
      "            Date      Open      High       Low     Close\n",
      "4040  09/21/2005  1,210.20  1,221.52  1,209.89  1,210.20\n",
      "4041  09/20/2005  1,221.34  1,236.49  1,220.07  1,221.34\n",
      "4042  09/19/2005  1,231.02  1,237.91  1,227.65  1,231.02\n",
      "4043  09/16/2005  1,237.91  1,237.95  1,228.42  1,237.91\n",
      "4044  09/15/2005  1,227.73  1,231.88  1,224.85  1,227.73\n",
      "Date     object\n",
      "Open     object\n",
      "High     object\n",
      "Low      object\n",
      "Close    object\n",
      "dtype: object\n"
     ]
    }
   ],
   "source": [
    "df = pd.read_csv('data/5to21.csv')\n",
    "print(df.head())\n",
    "print(df.tail())\n",
    "print(df.dtypes)\n"
   ]
  },
  {
   "cell_type": "code",
   "execution_count": 39,
   "metadata": {},
   "outputs": [
    {
     "data": {
      "text/html": [
       "<div>\n",
       "<style scoped>\n",
       "    .dataframe tbody tr th:only-of-type {\n",
       "        vertical-align: middle;\n",
       "    }\n",
       "\n",
       "    .dataframe tbody tr th {\n",
       "        vertical-align: top;\n",
       "    }\n",
       "\n",
       "    .dataframe thead th {\n",
       "        text-align: right;\n",
       "    }\n",
       "</style>\n",
       "<table border=\"1\" class=\"dataframe\">\n",
       "  <thead>\n",
       "    <tr style=\"text-align: right;\">\n",
       "      <th></th>\n",
       "      <th>Date</th>\n",
       "      <th>Open</th>\n",
       "      <th>High</th>\n",
       "      <th>Low</th>\n",
       "      <th>Close</th>\n",
       "    </tr>\n",
       "  </thead>\n",
       "  <tbody>\n",
       "    <tr>\n",
       "      <th>0</th>\n",
       "      <td>2021-10-08</td>\n",
       "      <td>4406.51</td>\n",
       "      <td>4412.02</td>\n",
       "      <td>4386.22</td>\n",
       "      <td>4391.34</td>\n",
       "    </tr>\n",
       "    <tr>\n",
       "      <th>1</th>\n",
       "      <td>2021-10-07</td>\n",
       "      <td>4383.73</td>\n",
       "      <td>4429.97</td>\n",
       "      <td>4383.73</td>\n",
       "      <td>4399.76</td>\n",
       "    </tr>\n",
       "    <tr>\n",
       "      <th>2</th>\n",
       "      <td>2021-10-06</td>\n",
       "      <td>4319.57</td>\n",
       "      <td>4365.57</td>\n",
       "      <td>4290.49</td>\n",
       "      <td>4363.55</td>\n",
       "    </tr>\n",
       "    <tr>\n",
       "      <th>3</th>\n",
       "      <td>2021-10-05</td>\n",
       "      <td>4309.87</td>\n",
       "      <td>4369.23</td>\n",
       "      <td>4309.87</td>\n",
       "      <td>4345.72</td>\n",
       "    </tr>\n",
       "    <tr>\n",
       "      <th>4</th>\n",
       "      <td>2021-10-04</td>\n",
       "      <td>4348.84</td>\n",
       "      <td>4355.51</td>\n",
       "      <td>4278.94</td>\n",
       "      <td>4300.46</td>\n",
       "    </tr>\n",
       "  </tbody>\n",
       "</table>\n",
       "</div>"
      ],
      "text/plain": [
       "        Date     Open     High      Low    Close\n",
       "0 2021-10-08  4406.51  4412.02  4386.22  4391.34\n",
       "1 2021-10-07  4383.73  4429.97  4383.73  4399.76\n",
       "2 2021-10-06  4319.57  4365.57  4290.49  4363.55\n",
       "3 2021-10-05  4309.87  4369.23  4309.87  4345.72\n",
       "4 2021-10-04  4348.84  4355.51  4278.94  4300.46"
      ]
     },
     "execution_count": 39,
     "metadata": {},
     "output_type": "execute_result"
    }
   ],
   "source": [
    "df['Date']= pd.to_datetime(df['Date'], infer_datetime_format=True)\n",
    "df = df.replace(',','', regex=True)\n",
    "df['Open']= df['Open'].astype(float)\n",
    "df['High']= df['High'].astype(float)\n",
    "df['Low']= df['Low'].astype(float)\n",
    "df['Close']= df['Close'].astype(float)\n",
    "df.head()"
   ]
  },
  {
   "cell_type": "markdown",
   "metadata": {},
   "source": [
    "## Methods\n",
    "\n",
    "- Identify which parts of the dataset are most relevant to answering your questions\n",
    "    - Which features are most relevant?\n",
    "    - What can you say about the quality of these features? How will it influence your analysis?"
   ]
  },
  {
   "cell_type": "markdown",
   "metadata": {},
   "source": [
    "I want to primarily focus on the Close column but other ones are able to provide more information.  \n",
    "It should be very accurate as it was taken from a reputable source.  "
   ]
  },
  {
   "cell_type": "markdown",
   "metadata": {},
   "source": [
    "- Select which methods you want to use to answer your questions.\n",
    "    - Which results will you generate?"
   ]
  },
  {
   "cell_type": "markdown",
   "metadata": {},
   "source": []
  },
  {
   "cell_type": "markdown",
   "metadata": {},
   "source": [
    "I plan to look at the differences between the days and weeks, to identify when the most change took place.\n",
    "Using .diff between the closes of each day and each week. And graphing bar charts to visually sea the difference."
   ]
  },
  {
   "cell_type": "markdown",
   "metadata": {},
   "source": [
    "---\n",
    "\n",
    "1. Results and Discussion\n",
    "- Generate results with the methods defined above.\n",
    "- Interpret individual results\n",
    "    - What does the result mean?\n",
    "    - Does it answer your question?\n",
    "    - Is it robust?"
   ]
  },
  {
   "cell_type": "code",
   "execution_count": 40,
   "metadata": {},
   "outputs": [
    {
     "data": {
      "image/png": "[encoded data removed]",
      "text/plain": [
       "<Figure size 432x288 with 1 Axes>"
      ]
     },
     "metadata": {
      "needs_background": "light"
     },
     "output_type": "display_data"
    }
   ],
   "source": [
    "#All the data\n",
    "plt.plot( 'Date', 'Close', data=df)\n",
    "plt.show()\n",
    "\n"
   ]
  },
  {
   "cell_type": "markdown",
   "metadata": {},
   "source": [
    "## The well known chart, that you can get by googling S&P 500 "
   ]
  },
  {
   "cell_type": "code",
   "execution_count": 41,
   "metadata": {},
   "outputs": [
    {
     "name": "stdout",
     "output_type": "stream",
     "text": [
      "          Date     Open     High      Low    Close  Close_dif\n",
      "398 2020-03-12  2630.86  2660.95  2478.86  2480.64    -230.38\n",
      "391 2020-03-23  2290.71  2300.73  2191.86  2237.40    -209.93\n",
      "382 2020-04-03  2514.92  2538.18  2459.96  2488.65    -175.03\n",
      "389 2020-03-25  2457.77  2571.42  2407.53  2475.56    -154.51\n",
      "396 2020-03-16  2508.59  2562.98  2380.94  2386.13    -143.06\n",
      "          Date     Open     High      Low    Close  Close_dif\n",
      "397 2020-03-13  2569.99  2711.33  2492.37  2711.02     324.89\n",
      "399 2020-03-11  2825.60  2825.60  2707.22  2741.38     260.74\n",
      "402 2020-03-06  2954.20  2985.93  2901.54  2972.37     225.81\n",
      "336 2020-06-10  3213.42  3223.27  3181.49  3190.14     188.04\n",
      "400 2020-03-10  2813.48  2882.59  2734.00  2882.23     140.85\n"
     ]
    }
   ],
   "source": [
    "closeDif= pd.DataFrame(df).copy() # Deep Copy\n",
    "closeDif['Close_dif'] = df['Close'].diff()\n",
    "closeDif=closeDif.sort_values(by='Close_dif')\n",
    "print(closeDif.head())\n",
    "closeDif=closeDif.sort_values(by='Close_dif', ascending=False)\n",
    "print(closeDif.head())"
   ]
  },
  {
   "cell_type": "markdown",
   "metadata": {},
   "source": [
    "### Biggest Single day drop and increase in S&P happened in March 2020 due to Covid."
   ]
  },
  {
   "cell_type": "code",
   "execution_count": 42,
   "metadata": {},
   "outputs": [
    {
     "data": {
      "image/png": "[encoded data removed]",
      "text/plain": [
       "<Figure size 432x288 with 1 Axes>"
      ]
     },
     "metadata": {
      "needs_background": "light"
     },
     "output_type": "display_data"
    }
   ],
   "source": [
    "y_pos = np.arange(10)\n",
    "\n",
    "plt.bar(y_pos, closeDif['Close_dif'].head(10))\n",
    "plt.xticks(y_pos, closeDif.head(10).index)\n",
    "plt.show()"
   ]
  },
  {
   "cell_type": "markdown",
   "metadata": {},
   "source": [
    "### Now I want to identify biggest Friday to Friday changes."
   ]
  },
  {
   "cell_type": "code",
   "execution_count": 43,
   "metadata": {},
   "outputs": [
    {
     "name": "stdout",
     "output_type": "stream",
     "text": [
      "          Date     Open     High      Low    Close  Close_dif\n",
      "382 2020-04-03  2514.92  2538.18  2459.96  2488.65    -385.91\n",
      "236 2020-10-30  3293.59  3304.93  3233.94  3269.96    -239.48\n",
      "392 2020-03-20  2431.94  2453.01  2295.56  2304.92    -236.55\n",
      "324 2020-06-26  3073.20  3073.73  3004.63  3009.05    -175.99\n",
      "175 2021-01-29  3778.05  3778.05  3694.12  3714.24    -172.59\n",
      "           Date     Open     High      Low    Close  Close_dif\n",
      "397  2020-03-13  2569.99  2711.33  2492.37  2711.02     406.10\n",
      "412  2020-02-21  3360.50  3360.76  3328.45  3337.75     383.53\n",
      "402  2020-03-06  2954.20  2985.93  2901.54  2972.37     261.35\n",
      "3276 2008-10-03  1128.35  1153.82  1098.14  1099.23     200.01\n",
      "241  2020-10-23  3464.90  3466.46  3440.45  3465.39     195.43\n"
     ]
    }
   ],
   "source": [
    "#friday is 4\n",
    "onlyFridays= pd.DataFrame(df).copy() # Deep Copy\n",
    "onlyFridays = onlyFridays[onlyFridays['Date'].dt.dayofweek == 4]\n",
    "onlyFridays['Close_dif'] = onlyFridays['Close'].diff()\n",
    "onlyFridays=onlyFridays.sort_values(by='Close_dif')\n",
    "print(onlyFridays.head())\n",
    "onlyFridays=onlyFridays.sort_values(by='Close_dif', ascending=False)\n",
    "print(onlyFridays.head())\n"
   ]
  },
  {
   "cell_type": "code",
   "execution_count": 44,
   "metadata": {},
   "outputs": [
    {
     "data": {
      "image/png": "[encoded data removed]",
      "text/plain": [
       "<Figure size 432x288 with 1 Axes>"
      ]
     },
     "metadata": {
      "needs_background": "light"
     },
     "output_type": "display_data"
    }
   ],
   "source": [
    "y_pos = np.arange(10)\n",
    "\n",
    "plt.bar(y_pos, onlyFridays['Close_dif'].head(10))\n",
    "plt.xticks(y_pos, onlyFridays.head(10).index)\n",
    "plt.show()"
   ]
  },
  {
   "cell_type": "markdown",
   "metadata": {},
   "source": [
    "### During march of 2020 a lot of records where broken, so I want to look before 2020."
   ]
  },
  {
   "cell_type": "code",
   "execution_count": 45,
   "metadata": {},
   "outputs": [
    {
     "name": "stdout",
     "output_type": "stream",
     "text": [
      "           Date     Open     High      Low    Close  Close_dif\n",
      "703  2018-12-24  2400.56  2410.34  2351.10  2351.10    -116.60\n",
      "3271 2008-10-10   866.33   936.36   839.80   899.22    -104.13\n",
      "3260 2008-10-27   860.23   893.78   846.75   848.92     -91.59\n",
      "697  2019-01-03  2491.92  2493.14  2443.96  2447.89     -84.05\n",
      "1542 2015-08-25  1898.08  1948.04  1867.08  1867.61     -72.90\n",
      "           Date     Open     High      Low    Close  Close_dif\n",
      "927  2018-02-02  2808.92  2808.92  2759.97  2762.13     113.19\n",
      "3281 2008-09-26  1187.54  1215.77  1187.54  1213.01     106.62\n",
      "924  2018-02-07  2690.95  2727.67  2681.33  2681.66     100.66\n",
      "755  2018-10-09  2882.51  2894.83  2874.27  2880.34      94.66\n",
      "717  2018-12-03  2790.50  2800.18  2773.38  2790.37      90.31\n"
     ]
    }
   ],
   "source": [
    "before2020= pd.DataFrame(df).copy() # Deep Copy\n",
    "before2020= before2020[~(before2020['Date'] > '2020-01-01')]\n",
    "before2020['Close_dif'] = before2020['Close'].diff()\n",
    "before2020=before2020.sort_values(by='Close_dif')\n",
    "print(before2020.head())\n",
    "before2020=before2020.sort_values(by='Close_dif', ascending=False)\n",
    "print(before2020.head())"
   ]
  },
  {
   "cell_type": "code",
   "execution_count": 46,
   "metadata": {},
   "outputs": [
    {
     "data": {
      "image/png": "[encoded data removed]",
      "text/plain": [
       "<Figure size 432x288 with 1 Axes>"
      ]
     },
     "metadata": {
      "needs_background": "light"
     },
     "output_type": "display_data"
    }
   ],
   "source": [
    "y_pos = np.arange(10)\n",
    "\n",
    "plt.bar(y_pos, before2020['Close_dif'].head(10))\n",
    "plt.xticks(y_pos, before2020.head(10).index)\n",
    "plt.show()"
   ]
  },
  {
   "cell_type": "code",
   "execution_count": 47,
   "metadata": {},
   "outputs": [
    {
     "name": "stdout",
     "output_type": "stream",
     "text": [
      "           Date     Open     High      Low    Close  Close_dif\n",
      "723  2018-11-23  2633.36  2647.55  2631.09  2632.56    -127.61\n",
      "595  2019-05-31  2766.15  2768.98  2750.52  2752.06    -121.28\n",
      "922  2018-02-09  2601.78  2638.67  2532.69  2619.55    -112.67\n",
      "3241 2008-11-21   763.45   801.20   741.02   800.03     -96.21\n",
      "908  2018-03-02  2658.89  2696.25  2647.32  2691.25     -95.32\n",
      "           Date     Open     High      Low    Close  Close_dif\n",
      "3276 2008-10-03  1128.35  1153.82  1098.14  1099.23     200.01\n",
      "709  2018-12-14  2629.68  2635.07  2593.84  2599.95     183.33\n",
      "898  2018-03-16  2750.57  2761.85  2749.97  2752.01     163.75\n",
      "927  2018-02-02  2808.92  2808.92  2759.97  2762.13     142.58\n",
      "718  2018-11-30  2737.76  2760.88  2732.76  2760.17     127.09\n"
     ]
    }
   ],
   "source": [
    "onlyFridaysB2020= pd.DataFrame(df).copy() # Deep Copy\n",
    "onlyFridaysB2020= onlyFridaysB2020[~(onlyFridaysB2020['Date'] > '2020-01-01')]\n",
    "\n",
    "onlyFridaysB2020= onlyFridaysB2020[onlyFridaysB2020['Date'].dt.dayofweek == 4]\n",
    "onlyFridaysB2020['Close_dif'] = onlyFridaysB2020['Close'].diff()\n",
    "onlyFridaysB2020=onlyFridaysB2020.sort_values(by='Close_dif')\n",
    "print(onlyFridaysB2020.head())\n",
    "onlyFridaysB2020=onlyFridaysB2020.sort_values(by='Close_dif', ascending=False)\n",
    "print(onlyFridaysB2020.head())"
   ]
  },
  {
   "cell_type": "code",
   "execution_count": 48,
   "metadata": {},
   "outputs": [
    {
     "data": {
      "image/png": "[encoded data removed]",
      "text/plain": [
       "<Figure size 432x288 with 1 Axes>"
      ]
     },
     "metadata": {
      "needs_background": "light"
     },
     "output_type": "display_data"
    }
   ],
   "source": [
    "y_pos = np.arange(10)\n",
    "\n",
    "plt.bar(y_pos, onlyFridaysB2020['Close_dif'].head(10))\n",
    "plt.xticks(y_pos, onlyFridaysB2020.head(10).index)\n",
    "plt.show()"
   ]
  },
  {
   "cell_type": "markdown",
   "metadata": {},
   "source": [
    "---\n",
    "\n",
    "- How do these results answer your question?\n",
    "- What are threads to validity?"
   ]
  },
  {
   "cell_type": "markdown",
   "metadata": {},
   "source": [
    "They will help me see when the largest changes took place.\n",
    "\n",
    "If there was a holiday on friday where the market was closed, the week difference would be messed up."
   ]
  },
  {
   "cell_type": "markdown",
   "metadata": {},
   "source": [
    "---\n",
    "\n",
    "- The big picture\n",
    "    - Come back to the original question. What do you conclude from your results?\n",
    "    - How do your results compare to what is known?\n",
    "    - Are there any questions that are left unanswered or that are answered with low confidence? How could future studies address them?"
   ]
  },
  {
   "cell_type": "markdown",
   "metadata": {},
   "source": [
    "They tell me that the largest drop and the largest gain were both in March 2020. Other then that, 2018, 2016 and 2008 were the other notable years.\n",
    "\n",
    "If there was a holiday on friday where the market was closed, the week difference would be messed up.\n",
    "\n",
    "The stock market is already heavily researched and analyzed, so I would assume everything is well known.  \n",
    "\n",
    "The dataset included High/Low it would be interesting to see the volatily per day, and if it would corelate to the above results.  \n",
    "And there are possibly other metrics that we may need in the future."
   ]
  }
 ],
 "metadata": {
  "interpreter": {
   "hash": "64936719a33416ab8db1ab7af93f5ba087c2ec6c09c115f83899d75015472944"
  },
  "kernelspec": {
   "display_name": "Python 3.9.2 64-bit",
   "name": "python3"
  },
  "language_info": {
   "codemirror_mode": {
    "name": "ipython",
    "version": 3
   },
   "file_extension": ".py",
   "mimetype": "text/x-python",
   "name": "python",
   "nbconvert_exporter": "python",
   "pygments_lexer": "ipython3",
   "version": "3.9.2"
  },
  "orig_nbformat": 4
 },
 "nbformat": 4,
 "nbformat_minor": 2
}
